{
 "cells": [
  {
   "cell_type": "code",
   "execution_count": 24,
   "id": "a9bcead9-5677-4ad1-a098-8e7241df1856",
   "metadata": {},
   "outputs": [],
   "source": [
    "import openpyxl\n",
    "\n",
    "#create a new blank Workbook object\n",
    "wb = openpyxl.Workbook()\n",
    "#get workbook active sheet\n",
    "ws = wb.active\n",
    "\n",
    "NajdrazaBoja = [[\"Godišnje doba\", \"Frekvencija_7a\", \"Rel_frekvencija_7a\", \"Frekvencija_7b\", \"Rel_frekvencija_7b\"], [\"Proljeće\", 24, 30, 28, 40], [\"Ljeto\", 32, 40, 21, 30], [\"Jesen\", 8, 10, 14, 20], [\"Zima\", 16, 20, 7, 10]]\n",
    "for row in NajdrazaBoja:\n",
    "    ws.append(row)\n",
    "\n",
    "from openpyxl.chart import BarChart,Series,Reference\n",
    "\n",
    "ch1 = BarChart()\n",
    "ch1.title = \"Najdraže godišnje doba\"\n",
    "ch1.y_axis.title = 'Broj učenika'\n",
    "ch1.x_axis.title = 'Godišnje doba'\n",
    "ch1.legend = None\n",
    "\n",
    "data1 = Reference(ws, min_col=2, max_col=2, min_row=2, max_row=5)\n",
    "data2 = Reference(ws, min_col=4, max_col=4, min_row=2, max_row=5)\n",
    "categ1 = Reference(ws, min_col=1, max_col=1, min_row=2, max_row=5)\n",
    "ch1.add_data(data1)\n",
    "ch1.add_data(data2)\n",
    "ch1.set_categories(categ1)\n",
    "\n",
    "# add chart to the sheet\n",
    "# the top-left corner of a chart is anchored to cell E2\n",
    "ws.add_chart(ch1, \"H2\")\n"
   ]
  },
  {
   "cell_type": "code",
   "execution_count": 25,
   "id": "3fc59c7f-9d79-4f2b-9336-7ca751789f95",
   "metadata": {},
   "outputs": [],
   "source": [
    "from openpyxl.chart import BarChart3D,Reference\n",
    "\n",
    "ch2 = BarChart3D()\n",
    "ch2.title = \"Najdraže godišnje doba\"\n",
    "ch2.y_axis.title = 'Postotak učenika'\n",
    "ch2.x_axis.title = 'Godišnje doba'\n",
    "ch2.legend = None\n",
    "\n",
    "data3 = Reference(ws, min_col=3, max_col=3, min_row=2, max_row=5)\n",
    "data4 = Reference(ws, min_col=5, max_col=5, min_row=2, max_row=5)\n",
    "ch2.add_data(data3)\n",
    "ch2.add_data(data4)\n",
    "ch2.set_categories(categ1)\n",
    "\n",
    "# add chart to the sheet\n",
    "# the top-left corner of a chart is anchored to cell E2\n",
    "ws.add_chart(ch2, \"H18\")\n"
   ]
  },
  {
   "cell_type": "code",
   "execution_count": 26,
   "id": "06b4a13a-cec7-43ac-b296-fa3bbbea1326",
   "metadata": {},
   "outputs": [],
   "source": [
    "from openpyxl.chart import LineChart,Reference\n",
    "\n",
    "ch3 = LineChart()\n",
    "ch3.title = \"Najdraže godišnje doba\"\n",
    "ch3.y_axis.title = 'Broj učenika'\n",
    "ch3.x_axis.title = 'Godišnje doba'\n",
    "ch3.legend = None\n",
    "\n",
    "ch3.add_data(data1)\n",
    "ch3.add_data(data2)\n",
    "\n",
    "# add chart to the sheet\n",
    "# the top-left corner of a chart is anchored to cell E2\n",
    "ws.add_chart(ch3, \"H34\")\n"
   ]
  },
  {
   "cell_type": "code",
   "execution_count": 27,
   "id": "8fc6afbf-a005-4be0-bb71-59b31ab63bee",
   "metadata": {},
   "outputs": [],
   "source": [
    "from openpyxl.chart import PieChart,Reference\n",
    "\n",
    "pie1 = PieChart()\n",
    "pie1.add_data(data3)\n",
    "pie1.set_categories(categ1)\n",
    "pie1.title = \"Najdraže godišnje doba u 7.a\"\n",
    "\n",
    "ws.add_chart(pie1, \"H50\")\n"
   ]
  },
  {
   "cell_type": "code",
   "execution_count": 28,
   "id": "2b0b76c3-453f-4773-8c41-a4aede5f3598",
   "metadata": {},
   "outputs": [],
   "source": [
    "from openpyxl.chart import PieChart3D,Reference\n",
    "\n",
    "pie2 = PieChart3D()\n",
    "pie2.add_data(data4)\n",
    "pie2.set_categories(categ1)\n",
    "pie2.title = \"Najdraže godišnje doba u 7.b\"\n",
    "\n",
    "ws.add_chart(pie2, \"H66\")\n",
    "\n",
    "# save the file\n",
    "wb.save(\"GodisnjeDoba.xlsx\")\n"
   ]
  },
  {
   "cell_type": "code",
   "execution_count": null,
   "id": "8a55cd35-b6ed-4f7b-9756-665e75a3e3b7",
   "metadata": {},
   "outputs": [],
   "source": []
  }
 ],
 "metadata": {
  "kernelspec": {
   "display_name": "Python 3 (ipykernel)",
   "language": "python",
   "name": "python3"
  },
  "language_info": {
   "codemirror_mode": {
    "name": "ipython",
    "version": 3
   },
   "file_extension": ".py",
   "mimetype": "text/x-python",
   "name": "python",
   "nbconvert_exporter": "python",
   "pygments_lexer": "ipython3",
   "version": "3.11.8"
  }
 },
 "nbformat": 4,
 "nbformat_minor": 5
}
