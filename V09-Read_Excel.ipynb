{
 "cells": [
  {
   "cell_type": "code",
   "execution_count": 14,
   "id": "c3fccf7b-e818-4f1d-9ee1-90b3f8c9ee9a",
   "metadata": {},
   "outputs": [
    {
     "name": "stdout",
     "output_type": "stream",
     "text": [
      "Ime\n"
     ]
    }
   ],
   "source": [
    "import openpyxl\n",
    "path = \"C:\\\\Users\\\\jaugu\\\\Documents\\\\GitHub\\\\PYTHON-vjezbe\\\\Podaci1.xlsx\"\n",
    "wb_obj = openpyxl.load_workbook(path)\n",
    "\n",
    "# To open the workbook, workbook object is created\n",
    "sheet_obj = wb_obj.active\n",
    " \n",
    "# Cell objects also have a row, column, and coordinate attributes \n",
    "# that provide location information for the cell. \n",
    "# Note: The first row or column integer is 1, not 0.\n",
    " \n",
    "# Cell object is created by using sheet object's cell() method.\n",
    "cell_obj = sheet_obj.cell(row = 1, column = 1)\n",
    " \n",
    "# Print value of cell object using the value attribute\n",
    "print(cell_obj.value)"
   ]
  },
  {
   "cell_type": "code",
   "execution_count": 15,
   "id": "4995fda9-aa5e-4541-b6f6-79dcdf87df6f",
   "metadata": {},
   "outputs": [
    {
     "name": "stdout",
     "output_type": "stream",
     "text": [
      "8\n"
     ]
    }
   ],
   "source": [
    "# print the total number of rows\n",
    "print(sheet_obj.max_row)"
   ]
  },
  {
   "cell_type": "code",
   "execution_count": 16,
   "id": "8cbf873a-3d4a-4762-8d8c-eec31c87d8d4",
   "metadata": {},
   "outputs": [
    {
     "name": "stdout",
     "output_type": "stream",
     "text": [
      "5\n"
     ]
    }
   ],
   "source": [
    "# print the total number of columns\n",
    "print(sheet_obj.max_column)"
   ]
  },
  {
   "cell_type": "code",
   "execution_count": 17,
   "id": "a2bab00e-e992-4796-b98b-70033ae7ce3a",
   "metadata": {},
   "outputs": [
    {
     "name": "stdout",
     "output_type": "stream",
     "text": [
      "Ime Prezime Dob Postanski broj Grad "
     ]
    }
   ],
   "source": [
    "# print the first row\n",
    "max_col = sheet_obj.max_column\n",
    "for i in range(1, max_col + 1):\n",
    "    cell_obj = sheet_obj.cell(row = 1, column = i)\n",
    "    print(cell_obj.value, end = \" \")"
   ]
  },
  {
   "cell_type": "code",
   "execution_count": 18,
   "id": "a90e095e-ed77-4b45-8d4a-1c0a5c85f4fb",
   "metadata": {},
   "outputs": [
    {
     "name": "stdout",
     "output_type": "stream",
     "text": [
      "Ime\n",
      "Mirela\n",
      "Ivana\n",
      "Igor\n",
      "Irena\n",
      "Marko\n",
      "Tomislav\n",
      "Katarina\n"
     ]
    }
   ],
   "source": [
    "#print the first column\n",
    "m_row = sheet_obj.max_row\n",
    "for i in range(1, m_row + 1):\n",
    "    cell_obj = sheet_obj.cell(row = i, column = 1)\n",
    "    print(cell_obj.value)"
   ]
  },
  {
   "cell_type": "code",
   "execution_count": 19,
   "id": "d0e17d2d-0c44-4a02-9a78-4f704bb60849",
   "metadata": {},
   "outputs": [
    {
     "name": "stdout",
     "output_type": "stream",
     "text": [
      "32\n",
      "Mirela\n"
     ]
    }
   ],
   "source": [
    "c4 = sheet_obj.cell(row = 4, column = 3)\n",
    "print(c4.value)\n",
    "a2 = sheet_obj['A2']\n",
    "print(a2.value)"
   ]
  },
  {
   "cell_type": "code",
   "execution_count": 20,
   "id": "d5b46aa9-ed1e-4bd3-9019-84147ddc5e58",
   "metadata": {},
   "outputs": [],
   "source": [
    "# modify data and save changes\n",
    "c4.value=30\n",
    "a2.value=\"Mirta\"\n",
    "wb_obj.save(path)"
   ]
  },
  {
   "cell_type": "code",
   "execution_count": 21,
   "id": "4a92d911-3332-4aa5-a9eb-56f8492408f3",
   "metadata": {},
   "outputs": [
    {
     "name": "stdout",
     "output_type": "stream",
     "text": [
      "5\n",
      "1990\n",
      "1979\n",
      "1994\n",
      "1968\n",
      "1986\n",
      "1999\n",
      "1977\n"
     ]
    }
   ],
   "source": [
    "#add a new column\n",
    "m_col = sheet_obj.max_column\n",
    "m_row = sheet_obj.max_row\n",
    "print(m_col)\n",
    "f1=sheet_obj['F1']\n",
    "f1.value=\"Godina rođenja\"\n",
    "for i in range(2, m_row + 1):\n",
    "    ci = sheet_obj.cell(row = i, column = 3)\n",
    "    fi = sheet_obj.cell(row = i, column = 6)\n",
    "    fi.value=2024-int(ci.value)\n",
    "    print(fi.value)\n",
    "wb_obj.save(path)"
   ]
  },
  {
   "cell_type": "code",
   "execution_count": null,
   "id": "95b8026b-3480-4e2f-bf2e-132e35cc8fe6",
   "metadata": {},
   "outputs": [],
   "source": []
  }
 ],
 "metadata": {
  "kernelspec": {
   "display_name": "Python 3 (ipykernel)",
   "language": "python",
   "name": "python3"
  },
  "language_info": {
   "codemirror_mode": {
    "name": "ipython",
    "version": 3
   },
   "file_extension": ".py",
   "mimetype": "text/x-python",
   "name": "python",
   "nbconvert_exporter": "python",
   "pygments_lexer": "ipython3",
   "version": "3.11.8"
  }
 },
 "nbformat": 4,
 "nbformat_minor": 5
}
