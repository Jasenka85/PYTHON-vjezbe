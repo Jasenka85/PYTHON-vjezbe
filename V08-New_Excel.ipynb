{
 "cells": [
  {
   "cell_type": "code",
   "execution_count": 17,
   "id": "ee725ea9-4bb2-4079-b83b-dd373144a1fe",
   "metadata": {
    "scrolled": true
   },
   "outputs": [],
   "source": [
    "from openpyxl import Workbook\n",
    "wb = Workbook()\n",
    "ws = wb.active\n",
    "Inventar = [[\"Boja\", \"Ruksak\", \"Torba\"], [\"Crvena\", 8, 4], [\"Plava\", 6, 5], [\"Zuta\", 7, 3], [\"Zelena\", 9, 2]]\n",
    "for row in Inventar:\n",
    "    ws.append(row)"
   ]
  },
  {
   "cell_type": "code",
   "execution_count": 18,
   "id": "b6fc5042-26e5-45cf-b723-73ee9c7cd0b6",
   "metadata": {},
   "outputs": [],
   "source": [
    "from openpyxl.styles import Font\n",
    "ft = Font(bold=True)\n",
    "for row in ws[\"A1:C1\"]:\n",
    "    for cell in row:\n",
    "        cell.font = ft"
   ]
  },
  {
   "cell_type": "code",
   "execution_count": 19,
   "id": "21a4472a-02eb-426f-aa31-9b37aa3fd3e1",
   "metadata": {},
   "outputs": [],
   "source": [
    "ws[\"A7\"]=\"Zbroj\"\n",
    "ws[\"B7\"] = \"=SUM(B2:B5)\"\n",
    "ws[\"C7\"] = \"=SUM(C2:C5)\"\n",
    "\n",
    "ws[\"A8\"]=\"Srednja vrijednost\"\n",
    "ws[\"B8\"] = \"=AVERAGE(B2:B5)\"\n",
    "ws[\"C8\"] = \"=AVERAGE(C2:C5)\"\n",
    "\n",
    "ws[\"A9\"]=\"Umnožak\"\n",
    "ws[\"B9\"] = \"=PRODUCT(B2:B5)\"\n",
    "ws[\"C9\"] = \"=PRODUCT(C2:C5)\"\n",
    "\n",
    "ws[\"A10\"]=\"Zbroj umnožaka\"\n",
    "ws[\"B10\"]=\"=SUMPRODUCT(B2:B5,C2:C5)\"\n",
    "\n",
    "wb.save(\"Inventar.xlsx\")"
   ]
  },
  {
   "cell_type": "code",
   "execution_count": null,
   "id": "9249de6c-9e61-495b-8a03-ce34986d201f",
   "metadata": {},
   "outputs": [],
   "source": []
  }
 ],
 "metadata": {
  "kernelspec": {
   "display_name": "Python 3 (ipykernel)",
   "language": "python",
   "name": "python3"
  },
  "language_info": {
   "codemirror_mode": {
    "name": "ipython",
    "version": 3
   },
   "file_extension": ".py",
   "mimetype": "text/x-python",
   "name": "python",
   "nbconvert_exporter": "python",
   "pygments_lexer": "ipython3",
   "version": "3.11.8"
  }
 },
 "nbformat": 4,
 "nbformat_minor": 5
}
