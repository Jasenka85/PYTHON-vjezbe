{
 "cells": [
  {
   "cell_type": "code",
   "execution_count": 10,
   "id": "ee725ea9-4bb2-4079-b83b-dd373144a1fe",
   "metadata": {
    "scrolled": true
   },
   "outputs": [],
   "source": [
    "from openpyxl import Workbook\n",
    "wb = Workbook()\n",
    "ws = wb.active\n",
    "NajdrazaBoja = [[\"Boja\", \"Frekvencija\", \"Rel_frekvencija\"], [\"Crvena\", 12, 20], [\"Plava\", 18, 30], [\"Ljubičasta\", 24, 40], [\"Zelena\", 6, 10]]\n",
    "for row in NajdrazaBoja:\n",
    "    ws.append(row)"
   ]
  },
  {
   "cell_type": "code",
   "execution_count": 11,
   "id": "b6fc5042-26e5-45cf-b723-73ee9c7cd0b6",
   "metadata": {},
   "outputs": [],
   "source": [
    "from openpyxl.styles import Font\n",
    "ft = Font(bold=True)\n",
    "for row in ws[\"A1:C1\"]:\n",
    "    for cell in row:\n",
    "        cell.font = ft"
   ]
  },
  {
   "cell_type": "code",
   "execution_count": 12,
   "id": "21a4472a-02eb-426f-aa31-9b37aa3fd3e1",
   "metadata": {},
   "outputs": [],
   "source": [
    "from openpyxl.chart import BarChart, Series, Reference\n",
    "chart = BarChart()\n",
    "chart.type = \"col\"\n",
    "chart.title = \"Najdraža boja\"\n",
    "chart.y_axis.title = 'Broj učenika'\n",
    "chart.x_axis.title = 'Boja'\n",
    "chart.legend = None"
   ]
  },
  {
   "cell_type": "code",
   "execution_count": 13,
   "id": "7cfabdc9-e511-419a-bfb8-dab728571a79",
   "metadata": {},
   "outputs": [],
   "source": [
    "data = Reference(ws, min_col=2, min_row=2, max_row=5, max_col=2)\n",
    "categories = Reference(ws, min_col=1, min_row=2, max_row=5, max_col=1)\n",
    "chart.add_data(data)\n",
    "chart.set_categories(categories)\n",
    "ws.add_chart(chart, \"E1\")"
   ]
  },
  {
   "cell_type": "code",
   "execution_count": 14,
   "id": "c1f62a47-6bf4-4382-b075-9fc476ae9402",
   "metadata": {},
   "outputs": [],
   "source": [
    "from openpyxl.chart import BarChart, Series, Reference\n",
    "chart = BarChart()\n",
    "chart.type = \"col\"\n",
    "chart.title = \"Najdraža boja\"\n",
    "chart.y_axis.title = 'Postotak učenika'\n",
    "chart.x_axis.title = 'Boja'\n",
    "chart.legend = None"
   ]
  },
  {
   "cell_type": "code",
   "execution_count": 15,
   "id": "4b251776-3d8c-43c5-abb5-2bf4ed5750e9",
   "metadata": {},
   "outputs": [],
   "source": [
    "data = Reference(ws, min_col=3, min_row=2, max_row=5, max_col=3)\n",
    "categories = Reference(ws, min_col=1, min_row=2, max_row=5, max_col=1)\n",
    "chart.add_data(data)\n",
    "chart.set_categories(categories)\n",
    "ws.add_chart(chart, \"E2\")\n",
    "wb.save(\"NajdrazaBoja.xlsx\")"
   ]
  },
  {
   "cell_type": "code",
   "execution_count": null,
   "id": "a9d1055f-bf2b-483d-a233-1f6593b68996",
   "metadata": {},
   "outputs": [],
   "source": []
  }
 ],
 "metadata": {
  "kernelspec": {
   "display_name": "Python 3 (ipykernel)",
   "language": "python",
   "name": "python3"
  },
  "language_info": {
   "codemirror_mode": {
    "name": "ipython",
    "version": 3
   },
   "file_extension": ".py",
   "mimetype": "text/x-python",
   "name": "python",
   "nbconvert_exporter": "python",
   "pygments_lexer": "ipython3",
   "version": "3.11.8"
  }
 },
 "nbformat": 4,
 "nbformat_minor": 5
}
